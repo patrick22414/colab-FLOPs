{
  "nbformat": 4,
  "nbformat_minor": 0,
  "metadata": {
    "colab": {
      "name": "FLOPs.ipynb",
      "provenance": [],
      "authorship_tag": "ABX9TyM7wnLzRPCx/dTiF655KBy7",
      "include_colab_link": true
    },
    "kernelspec": {
      "name": "python3",
      "display_name": "Python 3"
    }
  },
  "cells": [
    {
      "cell_type": "markdown",
      "metadata": {
        "id": "view-in-github",
        "colab_type": "text"
      },
      "source": [
        "<a href=\"https://colab.research.google.com/github/patrick22414/colab-FLOPs/blob/main/FLOPs.ipynb\" target=\"_parent\"><img src=\"https://colab.research.google.com/assets/colab-badge.svg\" alt=\"Open In Colab\"/></a>"
      ]
    },
    {
      "cell_type": "code",
      "metadata": {
        "colab": {
          "base_uri": "https://localhost:8080/"
        },
        "id": "wTeoAeoKptju",
        "outputId": "9a34f4c7-9c86-449f-97b8-fc6c84718b4f"
      },
      "source": [
        "!pip install ptflops"
      ],
      "execution_count": null,
      "outputs": [
        {
          "output_type": "stream",
          "text": [
            "Requirement already satisfied: ptflops in /usr/local/lib/python3.6/dist-packages (0.6.3)\n",
            "Requirement already satisfied: torch in /usr/local/lib/python3.6/dist-packages (from ptflops) (1.7.0+cu101)\n",
            "Requirement already satisfied: future in /usr/local/lib/python3.6/dist-packages (from torch->ptflops) (0.16.0)\n",
            "Requirement already satisfied: typing-extensions in /usr/local/lib/python3.6/dist-packages (from torch->ptflops) (3.7.4.3)\n",
            "Requirement already satisfied: numpy in /usr/local/lib/python3.6/dist-packages (from torch->ptflops) (1.18.5)\n",
            "Requirement already satisfied: dataclasses in /usr/local/lib/python3.6/dist-packages (from torch->ptflops) (0.7)\n"
          ],
          "name": "stdout"
        }
      ]
    },
    {
      "cell_type": "code",
      "metadata": {
        "id": "hNtexlAzc6t3"
      },
      "source": [
        "import torch\n",
        "from torch import nn\n",
        "from torch.nn import functional as F\n",
        "\n",
        "import torchvision\n",
        "from torchvision.models import mobilenet_v2\n",
        "\n",
        "import ptflops"
      ],
      "execution_count": null,
      "outputs": []
    },
    {
      "cell_type": "code",
      "metadata": {
        "id": "qD2A1VRXqrbo"
      },
      "source": [
        "class MBConv(nn.Module):\n",
        "    def __init__(self, in_channels, out_channels, *, kernel_size, stride, expansion=None, mid_channels=None):\n",
        "        super().__init__()\n",
        "\n",
        "        assert expansion or mid_channels\n",
        "        if not mid_channels:\n",
        "            mid_channels = in_channels * expansion\n",
        "\n",
        "        self.inv_bottleneck = nn.Sequential(\n",
        "            nn.Conv2d(in_channels, mid_channels, kernel_size=1, bias=False),\n",
        "            nn.BatchNorm2d(mid_channels),\n",
        "            nn.ReLU(),\n",
        "        )\n",
        "\n",
        "        self.depthwise_conv = nn.Sequential(\n",
        "            nn.Conv2d(\n",
        "                mid_channels,\n",
        "                mid_channels,\n",
        "                kernel_size=kernel_size,\n",
        "                stride=stride,\n",
        "                padding=kernel_size // 2,\n",
        "                groups=mid_channels,\n",
        "                bias=False,\n",
        "            ),\n",
        "            nn.BatchNorm2d(mid_channels),\n",
        "            nn.ReLU(),\n",
        "        )\n",
        "\n",
        "        self.pointwise_conv = nn.Sequential(\n",
        "            nn.Conv2d(mid_channels, out_channels, kernel_size=1, bias=False),\n",
        "            nn.BatchNorm2d(out_channels),\n",
        "        )\n",
        "\n",
        "        self.use_shortcut = (stride == 1 and in_channels == out_channels)\n",
        "\n",
        "    def forward(self, x):\n",
        "        y = self.inv_bottleneck(x)\n",
        "        y = self.depthwise_conv(y)\n",
        "        y = self.pointwise_conv(y)\n",
        "        if self.use_shortcut:\n",
        "            y = y + x\n",
        "\n",
        "        return y\n",
        "\n",
        "\n",
        "class MBStage(nn.Module):\n",
        "    def __init__(self, num_blocks, in_channels, out_channels, *, kernel_size, stride, expansion=None, mid_channels=None):\n",
        "        super().__init__()\n",
        "\n",
        "        assert expansion or mid_channels\n",
        "        if not isinstance(expansion, list):\n",
        "            expansion = [expansion] * num_blocks\n",
        "        if not isinstance(mid_channels, list):\n",
        "            mid_channels = [mid_channels] * num_blocks\n",
        "\n",
        "        self.blocks = nn.Sequential(*[\n",
        "            MBConv(\n",
        "                in_channels if i == 0 else out_channels,\n",
        "                out_channels,\n",
        "                kernel_size=kernel_size,\n",
        "                stride=stride if i == 0 else 1,\n",
        "                expansion=e,\n",
        "                mid_channels=mc,\n",
        "            )\n",
        "            for i, (e, mc) in enumerate(zip(expansion, mid_channels))\n",
        "        ])\n",
        "\n",
        "    def forward(self, x):\n",
        "        y = self.blocks(x)\n",
        "\n",
        "        return y\n",
        "\n",
        "\n",
        "class MobileNetV3(nn.Module):\n",
        "    def __init__(self):\n",
        "        super().__init__()\n",
        "        \n",
        "        self.stem = nn.Sequential(\n",
        "            nn.Conv2d(3, 16, kernel_size=3, stride=2, padding=1, bias=False),\n",
        "            nn.BatchNorm2d(16),\n",
        "            nn.ReLU(),\n",
        "            MBConv(16, 16, kernel_size=3, stride=1, mid_channels=16)\n",
        "        )\n",
        "        self.stages = nn.Sequential(\n",
        "            MBStage(2, 16, 24, kernel_size=3, stride=2, mid_channels=[64, 72]),\n",
        "            MBStage(3, 24, 40, kernel_size=5, stride=2, expansion=3),\n",
        "            MBStage(4, 40, 80, kernel_size=3, stride=2, mid_channels=[240, 200, 184, 184]),\n",
        "            MBStage(2, 80, 112, kernel_size=3, stride=1, expansion=6),\n",
        "            MBStage(3, 112, 160, kernel_size=5, stride=2, expansion=6),\n",
        "        )\n",
        "        self.one_more = nn.Sequential(\n",
        "            nn.Conv2d(160, 960, kernel_size=1, bias=False),\n",
        "            nn.BatchNorm2d(960),\n",
        "            nn.ReLU(),\n",
        "        )\n",
        "        # self.classifier = nn.Sequential(\n",
        "        #     nn.AdaptiveAvgPool2d(1),\n",
        "        #     nn.Conv2d(960, 1280, kernel_size=1, bias=False),\n",
        "        #     nn.ReLU(),\n",
        "        #     nn.Conv2d(1280, 1000, kernel_size=1, bias=False),\n",
        "        # )\n",
        "\n",
        "    def forward(self, x):\n",
        "        y = self.stem(x)\n",
        "        y = self.stages(y)\n",
        "        y = self.one_more(y)\n",
        "\n",
        "        return y\n",
        "\n",
        "class EfficientNetB0(nn.Module):\n",
        "    def __init__(self):\n",
        "        super().__init__()\n",
        "        \n",
        "        self.stem = nn.Sequential(\n",
        "            nn.Conv2d(3, 32, kernel_size=3, stride=2, padding=1, bias=False),\n",
        "            nn.BatchNorm2d(32),\n",
        "            nn.ReLU(),\n",
        "            MBConv(32, 16, kernel_size=3, stride=1, expansion=1)\n",
        "        )\n",
        "        self.stages = nn.Sequential(\n",
        "            MBStage(2, 16, 24, kernel_size=3, stride=2, expansion=6),\n",
        "            MBStage(2, 24, 40, kernel_size=5, stride=2, expansion=6),\n",
        "            MBStage(3, 40, 80, kernel_size=3, stride=2, expansion=6),\n",
        "            MBStage(3, 80, 112, kernel_size=5, stride=1, expansion=6),\n",
        "            MBStage(4, 112, 192, kernel_size=5, stride=2, expansion=6),\n",
        "            MBStage(1, 192, 320, kernel_size=3, stride=1, expansion=6),\n",
        "        )\n",
        "        self.one_more = nn.Sequential(\n",
        "            nn.Conv2d(320, 1280, kernel_size=1, bias=False),\n",
        "            nn.BatchNorm2d(1280),\n",
        "            nn.ReLU(),\n",
        "        )\n",
        "        # self.classifier = nn.Sequential(\n",
        "        #     nn.AdaptiveAvgPool2d(1),\n",
        "        #     nn.Conv2d(1280, 1000, kernel_size=1, bias=False),\n",
        "        # )\n",
        "\n",
        "    def forward(self, x):\n",
        "        y = self.stem(x)\n",
        "        y = self.stages(y)\n",
        "        y = self.one_more(y)\n",
        "\n",
        "        return y"
      ],
      "execution_count": null,
      "outputs": []
    },
    {
      "cell_type": "code",
      "metadata": {
        "colab": {
          "base_uri": "https://localhost:8080/",
          "height": 1000
        },
        "id": "HXJtOH-7eewE",
        "outputId": "678e440f-0d8a-4b45-b731-24973e44fc90"
      },
      "source": [
        "# x = torch.randn(10, 3, 300, 300)\n",
        "macs = []\n",
        "for r in range(280, 320, 1):\n",
        "    input_size = (3, r, r)\n",
        "\n",
        "    mbv3 = MobileNetV3()\n",
        "    res = ptflops.get_model_complexity_info(\n",
        "        mbv3,\n",
        "        input_size,\n",
        "        as_strings=False,\n",
        "        print_per_layer_stat=False,\n",
        "    )\n",
        "    macs.append(res[0])\n",
        "    print(\"MACs: {}; Params: {}\".format(*res))\n",
        "\n",
        "from matplotlib import pyplot\n",
        "pyplot.plot(list(range(280, 320, 1)), macs, \".-\")\n",
        "pyplot.show()\n",
        "# enb0 = EfficientNetB0()\n",
        "# res = ptflops.get_model_complexity_info(\n",
        "#     enb0,\n",
        "#     input_size,\n",
        "#     print_per_layer_stat=False,\n",
        "# )\n",
        "# print(\"MACs: {}; Params: {}\".format(*res))"
      ],
      "execution_count": null,
      "outputs": [
        {
          "output_type": "stream",
          "text": [
            "MACs: 370241360.0; Params: 1459960\n",
            "MACs: 375179136.0; Params: 1459960\n",
            "MACs: 375179136.0; Params: 1459960\n",
            "MACs: 375880976.0; Params: 1459960\n",
            "MACs: 375880976.0; Params: 1459960\n",
            "MACs: 377857616.0; Params: 1459960\n",
            "MACs: 377857616.0; Params: 1459960\n",
            "MACs: 378569376.0; Params: 1459960\n",
            "MACs: 378569376.0; Params: 1459960\n",
            "MACs: 418856120.0; Params: 1459960\n",
            "MACs: 418856120.0; Params: 1459960\n",
            "MACs: 419577800.0; Params: 1459960\n",
            "MACs: 419577800.0; Params: 1459960\n",
            "MACs: 421609800.0; Params: 1459960\n",
            "MACs: 421609800.0; Params: 1459960\n",
            "MACs: 422341400.0; Params: 1459960\n",
            "MACs: 422341400.0; Params: 1459960\n",
            "MACs: 427558280.0; Params: 1459960\n",
            "MACs: 427558280.0; Params: 1459960\n",
            "MACs: 428299800.0; Params: 1459960\n",
            "MACs: 428299800.0; Params: 1459960\n",
            "MACs: 430387160.0; Params: 1459960\n",
            "MACs: 430387160.0; Params: 1459960\n",
            "MACs: 431138600.0; Params: 1459960\n",
            "MACs: 431138600.0; Params: 1459960\n",
            "MACs: 454427856.0; Params: 1459960\n",
            "MACs: 454427856.0; Params: 1459960\n",
            "MACs: 455189216.0; Params: 1459960\n",
            "MACs: 455189216.0; Params: 1459960\n",
            "MACs: 457331936.0; Params: 1459960\n",
            "MACs: 457331936.0; Params: 1459960\n",
            "MACs: 458103216.0; Params: 1459960\n",
            "MACs: 458103216.0; Params: 1459960\n",
            "MACs: 463599200.0; Params: 1459960\n",
            "MACs: 463599200.0; Params: 1459960\n",
            "MACs: 464380400.0; Params: 1459960\n",
            "MACs: 464380400.0; Params: 1459960\n",
            "MACs: 466578480.0; Params: 1459960\n",
            "MACs: 466578480.0; Params: 1459960\n",
            "MACs: 467369600.0; Params: 1459960\n"
          ],
          "name": "stdout"
        },
        {
          "output_type": "display_data",
          "data": {
            "image/png": "[encoded data removed]",
            "text/plain": [
              "<Figure size 432x288 with 1 Axes>"
            ]
          },
          "metadata": {
            "tags": [],
            "needs_background": "light"
          }
        }
      ]
    }
  ]
}